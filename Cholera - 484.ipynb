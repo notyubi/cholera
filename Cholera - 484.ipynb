{
 "cells": [
  {
   "cell_type": "markdown",
   "metadata": {},
   "source": [
    "# Cholera"
   ]
  },
  {
   "cell_type": "markdown",
   "metadata": {},
   "source": [
    "## About\n",
    "Presenter: Yubi Peterson\n",
    "\n",
    "Contact: email: yubi@hawaii.edu | ig: @yubibimbap\n",
    "\n",
    "For: ICS 484 - Data Visualization\n",
    "\n",
    "Data created and compiled by Robin Wilson\n",
    "[Link to his website](www.rtwilson.com/academic)\n",
    "\n",
    "Libraries used: plotly, numpy, pandas"
   ]
  },
  {
   "cell_type": "code",
   "execution_count": 1,
   "metadata": {},
   "outputs": [],
   "source": [
    "import plotly\n",
    "import plotly.plotly as py\n",
    "import plotly.graph_objs as go\n",
    "import plotly.figure_factory as FF\n",
    "import numpy as np\n",
    "import pandas as pd"
   ]
  },
  {
   "cell_type": "markdown",
   "metadata": {},
   "source": [
    "### Cholera Deaths"
   ]
  },
  {
   "cell_type": "code",
   "execution_count": 45,
   "metadata": {},
   "outputs": [],
   "source": [
    "#To convert tsv file into csv\n",
    "tsv_file='https://raw.githubusercontent.com/notyubi/cholera/master/choleraDeaths.tsv'\n",
    "csv_table=pd.read_table(tsv_file,sep='\\t')\n",
    "csv_table.to_csv('choleraDeaths.csv',index=False)"
   ]
  },
  {
   "cell_type": "markdown",
   "metadata": {},
   "source": [
    "Table holding data on the specific dates of an Attack/Death recording as well as total value."
   ]
  },
  {
   "cell_type": "code",
   "execution_count": 67,
   "metadata": {},
   "outputs": [
    {
     "data": {
      "text/html": [
       "<iframe id=\"igraph\" scrolling=\"no\" style=\"border:none;\" seamless=\"seamless\" src=\"https://plot.ly/~notyubi/129.embed\" height=\"525px\" width=\"100%\"></iframe>"
      ],
      "text/plain": [
       "<plotly.tools.PlotlyDisplay object>"
      ]
     },
     "execution_count": 67,
     "metadata": {},
     "output_type": "execute_result"
    }
   ],
   "source": [
    "#read in the choleraDeaths.csv data file\n",
    "dfcholera = pd.read_csv('choleraDeaths.csv')\n",
    "\n",
    "#produce data table with some values\n",
    "trace = go.Table(\n",
    "    header=dict(values=list(dfcholera.columns),\n",
    "                fill = dict(color='#C2D4FF'),\n",
    "                align = ['center'] * 5),\n",
    "    cells=dict(values=[dfcholera.Date, dfcholera.Attack, dfcholera.Death, dfcholera.TotAttack, dfcholera.TotDeath],\n",
    "               fill = dict(color='#ffffff'),\n",
    "               align = ['right'] * 5))\n",
    "\n",
    "data = [trace] \n",
    "py.iplot(data, filename = 'data_table')"
   ]
  },
  {
   "cell_type": "markdown",
   "metadata": {},
   "source": [
    "Line chart showing 4 different types of relationships:\n",
    "- Attacks on a particular date\n",
    "- Deaths on a particular date\n",
    "- Total attacks on a particular date\n",
    "- Total deaths on a particular date"
   ]
  },
  {
   "cell_type": "code",
   "execution_count": 68,
   "metadata": {},
   "outputs": [
    {
     "data": {
      "text/html": [
       "<iframe id=\"igraph\" scrolling=\"no\" style=\"border:none;\" seamless=\"seamless\" src=\"https://plot.ly/~notyubi/117.embed\" height=\"525px\" width=\"100%\"></iframe>"
      ],
      "text/plain": [
       "<plotly.tools.PlotlyDisplay object>"
      ]
     },
     "execution_count": 68,
     "metadata": {},
     "output_type": "execute_result"
    }
   ],
   "source": [
    "#Line chart of Attacks\n",
    "attacks = go.Scatter(\n",
    "    x = dfcholera['Date'],\n",
    "    y = dfcholera['Attack'],\n",
    "    name = \"Day Attacks\",\n",
    "    line = dict(\n",
    "    color = '#a670c5' #a lighter purple\n",
    "    )\n",
    ")\n",
    "\n",
    "#Line for deaths\n",
    "deaths = go.Scatter(\n",
    "    x = dfcholera['Date'],\n",
    "    y = dfcholera['Death'],\n",
    "    name = \"Day Deaths\",\n",
    "    line = dict(\n",
    "    color = '#bbc515' #a lighter olive\n",
    "    )\n",
    ")\n",
    "\n",
    "#Line for totAttack\n",
    "totAttack = go.Scatter(\n",
    "    x = dfcholera['Date'],\n",
    "    y = dfcholera['TotAttack'],\n",
    "    name = \"Total Attacks\",\n",
    "    line = dict(\n",
    "    color = '#5d0c8b' #a darker purple\n",
    "    )\n",
    ")\n",
    "\n",
    "#Line for totDeaths\n",
    "totDeaths = go.Scatter(\n",
    "    x = dfcholera['Date'],\n",
    "    y = dfcholera['TotDeath'],\n",
    "    name = \"Total Deaths\",\n",
    "    line = dict(\n",
    "    color = '#575c09' #a dark olive color\n",
    "    )\n",
    ")\n",
    "\n",
    "data = [attacks, deaths, totAttack, totDeaths]\n",
    "\n",
    "layout = go.Layout(\n",
    "    title='Cholera Outbreak 1854',\n",
    "    xaxis=dict(\n",
    "        title='Date'\n",
    "    ),\n",
    "    yaxis=dict(\n",
    "        title='# of Observations'\n",
    "    )\n",
    ")\n",
    "\n",
    "fig = go.Figure(data=data, layout=layout)\n",
    "py.iplot(fig, filename='cholera_line')"
   ]
  },
  {
   "cell_type": "markdown",
   "metadata": {},
   "source": [
    "For this graph I chose a dark and light purple combo to indicate attacks and yellow-green combo for deaths because these are two color sets that color blind people can see (and what most colors default for them). "
   ]
  },
  {
   "cell_type": "markdown",
   "metadata": {},
   "source": [
    "### Naples Age and Sex Data"
   ]
  },
  {
   "cell_type": "code",
   "execution_count": 60,
   "metadata": {},
   "outputs": [],
   "source": [
    "#To convert tsv file into csv\n",
    "tsv_file='https://raw.githubusercontent.com/notyubi/cholera/master/naplesCholeraAgeSexData.tsv'\n",
    "csv_table=pd.read_table(tsv_file,sep='\\t')\n",
    "csv_table.to_csv('naplesAgeSex.csv',index=False)"
   ]
  },
  {
   "cell_type": "code",
   "execution_count": 69,
   "metadata": {},
   "outputs": [
    {
     "data": {
      "text/html": [
       "<iframe id=\"igraph\" scrolling=\"no\" style=\"border:none;\" seamless=\"seamless\" src=\"https://plot.ly/~notyubi/121.embed\" height=\"525px\" width=\"100%\"></iframe>"
      ],
      "text/plain": [
       "<plotly.tools.PlotlyDisplay object>"
      ]
     },
     "execution_count": 69,
     "metadata": {},
     "output_type": "execute_result"
    }
   ],
   "source": [
    "#read in the naplesAgeSex.csv data file\n",
    "dfnaples = pd.read_csv('naplesAgeSex.csv')\n",
    "\n",
    "#produce data table with some values\n",
    "trace = go.Table(\n",
    "    header=dict(values=list(df.columns),\n",
    "                fill = dict(color='#97d7e5'),\n",
    "                align = ['center'] * 5),\n",
    "    cells=dict(values=[dfnaples.age, dfnaples.male, dfnaples.female],\n",
    "               fill = dict(color='#ffffff'),\n",
    "               align = ['center'] * 5))\n",
    "\n",
    "dataN = [trace] \n",
    "py.iplot(dataN, filename = 'naples_table')"
   ]
  },
  {
   "cell_type": "code",
   "execution_count": 70,
   "metadata": {},
   "outputs": [
    {
     "data": {
      "text/html": [
       "<iframe id=\"igraph\" scrolling=\"no\" style=\"border:none;\" seamless=\"seamless\" src=\"https://plot.ly/~notyubi/131.embed\" height=\"525px\" width=\"100%\"></iframe>"
      ],
      "text/plain": [
       "<plotly.tools.PlotlyDisplay object>"
      ]
     },
     "execution_count": 70,
     "metadata": {},
     "output_type": "execute_result"
    }
   ],
   "source": [
    "#creating a bar chart\n",
    "maleTrace = go.Bar(\n",
    "    x=dfnaples['age'],\n",
    "    y=dfnaples['male'],\n",
    "    name='Males',\n",
    "    marker=dict(\n",
    "        color='#f8f97e'\n",
    "    )\n",
    ")\n",
    "femaleTrace = go.Bar(\n",
    "    x=dfnaples['age'],\n",
    "    y=dfnaples['female'],\n",
    "    name='Females',\n",
    "    marker=dict(\n",
    "        color='#e597d6'\n",
    "    )\n",
    ")\n",
    "data = [maleTrace, femaleTrace]\n",
    "layout = go.Layout(\n",
    "    title='Naples Age and Sex',\n",
    "    xaxis=dict(\n",
    "        title='Age Range'\n",
    "    ),\n",
    "    yaxis=dict(\n",
    "        title='Deaths per 10,000',\n",
    "        titlefont=dict(\n",
    "            size=16,\n",
    "            color='rgb(107, 107, 107)'\n",
    "        ),\n",
    "    ),\n",
    "    legend=dict(\n",
    "        x=0,\n",
    "        y=1.0,\n",
    "        bgcolor='rgba(255, 255, 255, 0)',\n",
    "        bordercolor='rgba(255, 255, 255, 0)'\n",
    "    ),\n",
    "    barmode='group',\n",
    "    bargap=0.15,\n",
    "    bargroupgap=0\n",
    ")\n",
    "\n",
    "fig = go.Figure(data=data, layout=layout)\n",
    "py.iplot(fig, filename='naplesAgenSex')"
   ]
  },
  {
   "cell_type": "markdown",
   "metadata": {},
   "source": [
    "### UK Census 1851 Dataset"
   ]
  },
  {
   "cell_type": "code",
   "execution_count": 64,
   "metadata": {},
   "outputs": [],
   "source": [
    "#To convert tsv file into csv\n",
    "tsv_file='https://raw.githubusercontent.com/notyubi/cholera/master/UKcensus1851.tsv'\n",
    "csv_table=pd.read_table(tsv_file,sep='\\t')\n",
    "csv_table.to_csv('ukCensus.csv',index=False)"
   ]
  },
  {
   "cell_type": "code",
   "execution_count": 65,
   "metadata": {},
   "outputs": [
    {
     "data": {
      "text/html": [
       "<iframe id=\"igraph\" scrolling=\"no\" style=\"border:none;\" seamless=\"seamless\" src=\"https://plot.ly/~notyubi/123.embed\" height=\"525px\" width=\"100%\"></iframe>"
      ],
      "text/plain": [
       "<plotly.tools.PlotlyDisplay object>"
      ]
     },
     "execution_count": 65,
     "metadata": {},
     "output_type": "execute_result"
    }
   ],
   "source": [
    "#produce data table with some values\n",
    "dfcensus = pd.read_csv('ukCensus.csv')\n",
    "trace = go.Table(\n",
    "    header=dict(values=list(dfcensus.columns),\n",
    "                fill = dict(color='#97d7e5'),\n",
    "                align = ['center']),\n",
    "    cells=dict(values=[dfcensus.age, dfcensus.male, dfcensus.female, dfcensus.total],\n",
    "               fill = dict(color='#ffffff'),\n",
    "               align = ['right']))\n",
    "\n",
    "dataN = [trace] \n",
    "py.iplot(dataN, filename = 'ukCensus_table')"
   ]
  },
  {
   "cell_type": "code",
   "execution_count": 66,
   "metadata": {},
   "outputs": [
    {
     "data": {
      "text/html": [
       "<iframe id=\"igraph\" scrolling=\"no\" style=\"border:none;\" seamless=\"seamless\" src=\"https://plot.ly/~notyubi/127.embed\" height=\"525px\" width=\"100%\"></iframe>"
      ],
      "text/plain": [
       "<plotly.tools.PlotlyDisplay object>"
      ]
     },
     "execution_count": 66,
     "metadata": {},
     "output_type": "execute_result"
    }
   ],
   "source": [
    "#creating a bar chart\n",
    "maleTrace = go.Bar(\n",
    "    x=dfcensus['age'],\n",
    "    y=dfcensus['male'],\n",
    "    name='Males',\n",
    "    marker=dict(\n",
    "        color='#f8f97e'\n",
    "    )\n",
    ")\n",
    "femaleTrace = go.Bar(\n",
    "    x=dfcensus['age'],\n",
    "    y=dfcensus['female'],\n",
    "    name='Females',\n",
    "    marker=dict(\n",
    "        color='#e597d6'\n",
    "    )\n",
    ")\n",
    "data = [maleTrace, femaleTrace]\n",
    "layout = go.Layout(\n",
    "    title='UK Census 1851',\n",
    "    xaxis=dict(\n",
    "        title='Age Range'\n",
    "    ),\n",
    "    yaxis=dict(\n",
    "        title='Number Impacted',\n",
    "        titlefont=dict(\n",
    "            size=16,\n",
    "            color='rgb(107, 107, 107)'\n",
    "        ),\n",
    "    ),\n",
    "    legend=dict(\n",
    "        x=0,\n",
    "        y=1.0,\n",
    "        bgcolor='rgba(255, 255, 255, 0)',\n",
    "        bordercolor='rgba(255, 255, 255, 0)'\n",
    "    ),\n",
    "    barmode='group',\n",
    "    bargap=0.15,\n",
    "    bargroupgap=0\n",
    ")\n",
    "\n",
    "fig = go.Figure(data=data, layout=layout)\n",
    "py.iplot(fig, filename='ukcensusbar')"
   ]
  },
  {
   "cell_type": "code",
   "execution_count": 92,
   "metadata": {},
   "outputs": [
    {
     "data": {
      "text/html": [
       "<iframe id=\"igraph\" scrolling=\"no\" style=\"border:none;\" seamless=\"seamless\" src=\"https://plot.ly/~notyubi/135.embed\" height=\"525px\" width=\"100%\"></iframe>"
      ],
      "text/plain": [
       "<plotly.tools.PlotlyDisplay object>"
      ]
     },
     "execution_count": 92,
     "metadata": {},
     "output_type": "execute_result"
    }
   ],
   "source": [
    "#pie chart for men\n",
    "labels = dfcensus['age']\n",
    "values = dfcensus['male']\n",
    "colors = ['#0c5387', '#1068a9', '#2777b1', '#5795c2','#6fa4cb', '#87b3d4','#9fc2dc', '#b7dle5', '#cfe0ed']\n",
    "\n",
    "trace = go.Pie(labels=labels, values=values,\n",
    "               hoverinfo='label+percent', textinfo='value', \n",
    "               textfont=dict(color='#ffffff', size=17),\n",
    "               marker=dict(colors=colors, \n",
    "                           line=dict(color='#ffffff', width=1)))\n",
    "\n",
    "py.iplot([trace], filename='pieMen')"
   ]
  },
  {
   "cell_type": "code",
   "execution_count": 91,
   "metadata": {},
   "outputs": [
    {
     "data": {
      "text/html": [
       "<iframe id=\"igraph\" scrolling=\"no\" style=\"border:none;\" seamless=\"seamless\" src=\"https://plot.ly/~notyubi/137.embed\" height=\"525px\" width=\"100%\"></iframe>"
      ],
      "text/plain": [
       "<plotly.tools.PlotlyDisplay object>"
      ]
     },
     "execution_count": 91,
     "metadata": {},
     "output_type": "execute_result"
    }
   ],
   "source": [
    "#pie chart for women\n",
    "labels = dfcensus['age']\n",
    "values = dfcensus['female']\n",
    "colors = ['#cc5151', '#e55b5b', '#ff7f7f', '#ffb2b2','#ffcccc', '#efcbbb','#e3cf81', '#ecdfab', '#f5efd5']\n",
    "\n",
    "trace = go.Pie(labels=labels, values=values,\n",
    "               hoverinfo='label+percent', textinfo='value', \n",
    "               textfont=dict(size=17),\n",
    "               marker=dict(colors=colors, \n",
    "                           line=dict(color='#ffffff', width=1)))\n",
    "\n",
    "py.iplot([trace], filename='pieGirl')"
   ]
  },
  {
   "cell_type": "code",
   "execution_count": 96,
   "metadata": {},
   "outputs": [
    {
     "data": {
      "text/html": [
       "<iframe id=\"igraph\" scrolling=\"no\" style=\"border:none;\" seamless=\"seamless\" src=\"https://plot.ly/~notyubi/139.embed\" height=\"525px\" width=\"100%\"></iframe>"
      ],
      "text/plain": [
       "<plotly.tools.PlotlyDisplay object>"
      ]
     },
     "execution_count": 96,
     "metadata": {},
     "output_type": "execute_result"
    }
   ],
   "source": [
    "#pie chart for overall\n",
    "labels = ['Men', 'Women']\n",
    "values = ['8186432', '8552261']\n",
    "colors = ['#53d8b3', '#eee865']\n",
    "\n",
    "trace = go.Pie(labels=labels, values=values,\n",
    "               hoverinfo='label+percent', textinfo='value', \n",
    "               textfont=dict(size=17),\n",
    "               marker=dict(colors=colors, \n",
    "                           line=dict(color='#ffffff', width=1)))\n",
    "\n",
    "py.iplot([trace], filename='overallPie')"
   ]
  },
  {
   "cell_type": "code",
   "execution_count": null,
   "metadata": {},
   "outputs": [],
   "source": []
  }
 ],
 "metadata": {
  "kernelspec": {
   "display_name": "Python 3",
   "language": "python",
   "name": "python3"
  },
  "language_info": {
   "codemirror_mode": {
    "name": "ipython",
    "version": 3
   },
   "file_extension": ".py",
   "mimetype": "text/x-python",
   "name": "python",
   "nbconvert_exporter": "python",
   "pygments_lexer": "ipython3",
   "version": "3.6.5"
  }
 },
 "nbformat": 4,
 "nbformat_minor": 2
}
